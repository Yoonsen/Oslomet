{
 "cells": [
  {
   "cell_type": "markdown",
   "metadata": {},
   "source": [
    "# Oslomet oktober 2018"
   ]
  },
  {
   "cell_type": "markdown",
   "metadata": {},
   "source": [
    "Importer ressurser"
   ]
  },
  {
   "cell_type": "code",
   "execution_count": 1,
   "metadata": {},
   "outputs": [
    {
     "name": "stdout",
     "output_type": "stream",
     "text": [
      "Updated file nbtext.py\n",
      "Updated file nbpictures.py\n"
     ]
    }
   ],
   "source": [
    "import module_update"
   ]
  },
  {
   "cell_type": "code",
   "execution_count": 2,
   "metadata": {},
   "outputs": [],
   "source": [
    "import nbtext as nb\n",
    "import nbpictures as pct"
   ]
  },
  {
   "cell_type": "markdown",
   "metadata": {},
   "source": [
    "# Nasjonalbiblioteket og digitalisering\n",
    "\n",
    "* Digitaliseringsarbeidet startet for alvor i 2006\n",
    "* Metadata for bøker fra Nasjonalbibliografien, og nye metadataformat for nye medier, som film og lyd.\n",
    "* Bokhylla-avtalen fra 2012. Alle bøker publisert før 2000 er tilgjengelig på [nb.no](https://www.nb.no)\n",
    "* Fra 2017 er bøkene også gjort tilgjengelig for forskning gjennom ikke-konsumerbar bruk"
   ]
  },
  {
   "cell_type": "markdown",
   "metadata": {},
   "source": [
    "# Kunnskapsorganisering - semantisk eller diskursiv kunnskap\n",
    "\n",
    "### Hva er kunnskap?\n",
    "\n",
    "* [Wikipedia](https://en.wikipedia.org/wiki/Knowledge)\n",
    "* [Stanford encyclopedia om epistemologi](https://plato.stanford.edu/entries/epistemology/)\n",
    "* [Stanfor encyclopdia kunnskap](https://plato.stanford.edu/entries/knowledge-analysis/)\n",
    "\n",
    "Her skal vi se litt på materialitet og gjøre en distinksjon mellom kunnskap og informasjon, som dels går på materialitet. \n",
    "\n",
    "Det kan se ut som at informasjon har større grad av fysisk materialitet enn det kunnskap har.\n",
    "Her er noen grammatiske forskjeller på kunnskap og informasjon:\n",
    "\n",
    "    Informasjonen/?kunnskapen ble sendt med post.\n",
    "    Ola har informasjon/?kunnskap om at jorda er flat. (? fordi jorda ikke er det)\n",
    "\n",
    "Kunnskap er tett knyttet til sannhet. Det å ha kunnskap, eller vite noe, impliserer sannhet (vite er et faktuelt verb) på samme måte som beklage:\n",
    "\n",
    "    Det at \"Ola vet/beklager at det regner\", betyr at det regner.\n",
    "\n",
    "Kunnskap er også forskjellig fra informasjon - i tillegg til at informasjon kan være usann eller sann (på samme måte som påstander) vil kunnskap i større grad oppstå gjennom slutninger, pr.definisjon er kunnskap sann (så når noe rokker ved kunnskapen er det mye som ryker i samme slengen): samtidig som du får informasjon om en ting, kan du få kunnskap om mye mer:\n",
    "\n",
    "Du vet at melken befinner seg i ett av tre kjøleskap A, B eller C, og du har fått verifisert informasjon om at det er i enten A eller B. Så får du (verifisert) informasjon om at melken befinner seg i B eller C. Fra det kan du slutte, eller få kunnskapen om, at melken befinner seg i B.  Merk at du ikke har noe direkte informasjon om at melken er i B, men ved å kombinere informasjonen fra tidligere (A eller B) og (B eller C) kan du få _kunnskap_ som ikke ligger i noen informasjonsbitene, men som er et resultat av å kombinere dem. \n",
    "\n",
    "Mens informasjon kan flyttes, slettes, komme på avveie etc., har ikke kunnskap noen av de egenskapene. Selv ikke når kunnskapen og informasjonen har det samme innholdet, som når du får en lapp hvor det står at Galdhøpiggen er 2400 meter høy. Kunnskapen fra informasjonen er distinkt fra informasjonen selv. Om noen gir deg lappen, har du fått informasjonen, men kunnskapen har du ikke fått før du leser lappen og forstår den. Altså, man kan si at \"informasjonen er overført\" etter å gitt noen en slik lapp, men du kan ikke uten videre si at \"kunnskapen er overført\" etter samme handling.\n",
    "\n",
    "En annen grammatisk egenskap ved kunnskap ligger i måten den overføres på, at kunnskap har samme egenskap som hodepine i:\n",
    "\n",
    "    Han ga henne hodepine/kunnskap \n",
    "    *?Han ga hodepine/kunnskap til henne\n",
    "\n",
    "I motsetning til informasjon og bøker, der\n",
    "\n",
    "    Hun ga barna bøker/informasjonen\n",
    "\n",
    "er like bra som:\n",
    "\n",
    "    Hun ga bøker/informasjonen til barna\n",
    "\n",
    "Så vi kan si at kunnskap er privat og konstitueres av den enkelte, mens informasjon er åpen og offentlig.  "
   ]
  },
  {
   "cell_type": "markdown",
   "metadata": {},
   "source": [
    "# Metadata for objekter\n",
    "\n",
    "Metadata er informasjon om objekter, og\n",
    "i seg selv et resultat av resonnementer. Metadata kan kombineres og kobles til seg selv, og kobles til innhold for å gi ny kunnskap og informasjon.\n",
    "\n",
    "Metadata legges inn ved bibliotekene i forskjellige formater, for eksempel Marc21, og kan hentes ut fra digitale lager. For eksempel med [APIer](https://api.nb.no) fra Nasjonalbiblioteket. APIene er adgang til metadata for programmer og algoritmer, og brukes til å bygge brukergrensesnitt, som for eksempel [ORIA](https://oria.no)"
   ]
  },
  {
   "cell_type": "markdown",
   "metadata": {},
   "source": [
    "### Språkbankens API mot metadata"
   ]
  },
  {
   "cell_type": "code",
   "execution_count": 4,
   "metadata": {},
   "outputs": [
    {
     "data": {
      "text/plain": [
       "[[2013010408146, 'Hamsun, Knut', 'Markens grøde', 1972],\n",
       " [2008073100012, 'Hamsun, Knut', 'På gjengrodde stier', 1996],\n",
       " [2007051401028, 'Hamsun, Knut', 'Segelfoss by', 1967],\n",
       " [2009010704041, 'Hamsun, Knut', 'Samlede verker', 1997],\n",
       " [2009031900017, 'Hamsun, Knut', 'Sult', 1990],\n",
       " [2013030608007, 'Hamsun, Knut', 'Samlede verker', 1992],\n",
       " [2012092606142, 'Hamsun, Knut', 'Samlede verker', 1964],\n",
       " [2010081808019, 'Hamsun, Knut', 'Knut Hamsun', 1998],\n",
       " [2009010704135, 'Hamsun, Knut', 'Samlede verker', 2000],\n",
       " [2008082701033, 'Hamsun, Knut', 'Pan', 1998]]"
      ]
     },
     "execution_count": 4,
     "metadata": {},
     "output_type": "execute_result"
    }
   ],
   "source": [
    "nb.get_urn({'author':\"hamsun%knut%\",\"year\":1950, \"next\":50})"
   ]
  },
  {
   "cell_type": "markdown",
   "metadata": {},
   "source": [
    "### NBs api mot metadata som marc-xml"
   ]
  },
  {
   "cell_type": "code",
   "execution_count": 5,
   "metadata": {
    "scrolled": true
   },
   "outputs": [
    {
     "name": "stdout",
     "output_type": "stream",
     "text": [
      "<?xml version=\"1.0\" encoding=\"UTF-8\" standalone=\"yes\"?>\n",
      "<html>\n",
      " <body>\n",
      "  <record xmlns=\"http://www.loc.gov/MARC21/slim\">\n",
      "   <leader>\n",
      "    nam  22     uu 4500\n",
      "   </leader>\n",
      "   <controlfield tag=\"001\">\n",
      "    997511476994702202\n",
      "   </controlfield>\n",
      "   <controlfield tag=\"003\">\n",
      "    nb.bibsys.no\n",
      "   </controlfield>\n",
      "   <controlfield tag=\"005\">\n",
      "    20170126162802.0\n",
      "   </controlfield>\n",
      "   <controlfield tag=\"008\">\n",
      "    140610\n",
      "                        s\n",
      "                            no#||||| |||||||||||nob||\n",
      "   </controlfield>\n",
      "   <datafield ind1=\" \" ind2=\" \" tag=\"040\">\n",
      "    <subfield code=\"a\">\n",
      "     NO-TrBIB\n",
      "    </subfield>\n",
      "   </datafield>\n",
      "   <datafield ind1=\"1\" ind2=\"0\" tag=\"245\">\n",
      "    <subfield code=\"a\">\n",
      "     Segelfoss by\n",
      "    </subfield>\n",
      "    <subfield code=\"c\">\n",
      "     Knut Hamsun ; med en innledning av Edvard Beyer\n",
      "    </subfield>\n",
      "   </datafield>\n",
      "   <datafield ind1=\"1\" ind2=\" \" tag=\"700\">\n",
      "    <subfield code=\"a\">\n",
      "     Hamsun, Knut\n",
      "    </subfield>\n",
      "    <subfield code=\"d\">\n",
      "     1859-1952\n",
      "    </subfield>\n",
      "   </datafield>\n",
      "   <datafield ind1=\"1\" ind2=\" \" tag=\"700\">\n",
      "    <subfield code=\"a\">\n",
      "     Bull, Francis\n",
      "    </subfield>\n",
      "    <subfield code=\"d\">\n",
      "     1887-1974\n",
      "    </subfield>\n",
      "   </datafield>\n",
      "   <datafield ind1=\" \" ind2=\"7\" tag=\"655\">\n",
      "    <subfield code=\"a\">\n",
      "     fiction\n",
      "    </subfield>\n",
      "   </datafield>\n",
      "   <datafield ind1=\" \" ind2=\"7\" tag=\"655\">\n",
      "    <subfield code=\"a\">\n",
      "     fiction\n",
      "    </subfield>\n",
      "    <subfield code=\"2\">\n",
      "     marcgt\n",
      "    </subfield>\n",
      "   </datafield>\n",
      "   <datafield ind1=\" \" ind2=\" \" tag=\"044\">\n",
      "    <subfield code=\"c\">\n",
      "     no\n",
      "    </subfield>\n",
      "   </datafield>\n",
      "   <datafield ind1=\" \" ind2=\" \" tag=\"260\">\n",
      "    <subfield code=\"a\">\n",
      "     Oslo\n",
      "    </subfield>\n",
      "    <subfield code=\"b\">\n",
      "     Gyldendal\n",
      "    </subfield>\n",
      "    <subfield code=\"c\">\n",
      "     1967\n",
      "    </subfield>\n",
      "   </datafield>\n",
      "   <datafield ind1=\" \" ind2=\" \" tag=\"300\">\n",
      "    <subfield code=\"a\">\n",
      "     X, 311 s.\n",
      "    </subfield>\n",
      "   </datafield>\n",
      "   <datafield ind1=\" \" ind2=\" \" tag=\"\">\n",
      "    <subfield code=\"a\">\n",
      "    </subfield>\n",
      "   </datafield>\n",
      "   <datafield ind1=\" \" ind2=\" \" tag=\"500\">\n",
      "    <subfield code=\"a\">\n",
      "     1. utg. Kristiania ; KÃ¸benhavn : Gyldendalske Boghandel,  1915\n",
      "    </subfield>\n",
      "   </datafield>\n",
      "   <datafield ind1=\" \" ind2=\" \" tag=\"500\">\n",
      "    <subfield code=\"a\">\n",
      "     Opplagshistorikk:  Denne utg., 2. oppl.1968\n",
      "    </subfield>\n",
      "   </datafield>\n",
      "   <datafield ind1=\" \" ind2=\" \" tag=\"500\">\n",
      "    <subfield code=\"a\">\n",
      "     Elektronisk reproduksjon [Norge] Nasjonalbiblioteket Digital 2010-11-05\n",
      "    </subfield>\n",
      "   </datafield>\n",
      "   <datafield ind1=\"1\" ind2=\" \" tag=\"650\">\n",
      "    <subfield code=\"a\">\n",
      "     norske\n",
      "    </subfield>\n",
      "   </datafield>\n",
      "   <datafield ind1=\"1\" ind2=\" \" tag=\"650\">\n",
      "    <subfield code=\"a\">\n",
      "     romaner\n",
      "    </subfield>\n",
      "   </datafield>\n",
      "   <datafield ind1=\"1\" ind2=\" \" tag=\"650\">\n",
      "    <subfield code=\"a\">\n",
      "     1910-tallet\n",
      "    </subfield>\n",
      "   </datafield>\n",
      "   <datafield ind1=\"1\" ind2=\" \" tag=\"650\">\n",
      "    <subfield code=\"a\">\n",
      "     norsk\n",
      "    </subfield>\n",
      "   </datafield>\n",
      "   <datafield ind1=\"1\" ind2=\" \" tag=\"650\">\n",
      "    <subfield code=\"a\">\n",
      "     litteratur\n",
      "    </subfield>\n",
      "   </datafield>\n",
      "   <datafield ind1=\"1\" ind2=\" \" tag=\"650\">\n",
      "    <subfield code=\"a\">\n",
      "     serieverk\n",
      "    </subfield>\n",
      "   </datafield>\n",
      "   <datafield ind1=\" \" ind2=\" \" tag=\"080\">\n",
      "    <subfield code=\"a\">\n",
      "     839.6\n",
      "    </subfield>\n",
      "   </datafield>\n",
      "   <datafield ind1=\" \" ind2=\" \" tag=\"080\">\n",
      "    <subfield code=\"a\">\n",
      "     839.6(08)\n",
      "    </subfield>\n",
      "   </datafield>\n",
      "   <datafield ind1=\"0\" ind2=\" \" tag=\"082\">\n",
      "    <subfield code=\"a\">\n",
      "     839.93\n",
      "    </subfield>\n",
      "    <subfield code=\"2\">\n",
      "     2/nor\n",
      "    </subfield>\n",
      "   </datafield>\n",
      "   <datafield ind1=\" \" ind2=\" \" tag=\"856\">\n",
      "    <subfield code=\"u\">\n",
      "     http://urn.nb.no/URN:NBN:no-nb_digibok_2007051401028\n",
      "    </subfield>\n",
      "    <subfield code=\"3\">\n",
      "     Fulltekst NB digitalisert\n",
      "    </subfield>\n",
      "   </datafield>\n",
      "   <datafield ind1=\" \" ind2=\" \" tag=\"856\">\n",
      "    <subfield code=\"u\">\n",
      "     http://urn.nb.no/URN:NBN:no-nb_digibok_2011070620014\n",
      "    </subfield>\n",
      "    <subfield code=\"3\">\n",
      "     Fulltekst NB digitalisert\n",
      "    </subfield>\n",
      "   </datafield>\n",
      "   <datafield ind1=\" \" ind2=\" \" tag=\"856\">\n",
      "    <subfield code=\"u\">\n",
      "     http://urn.nb.no/URN:NBN:no-nb_digibok_2007051401028\n",
      "    </subfield>\n",
      "    <subfield code=\"3\">\n",
      "     electronic resource\n",
      "    </subfield>\n",
      "   </datafield>\n",
      "   <datafield ind1=\" \" ind2=\" \" tag=\"856\">\n",
      "    <subfield code=\"u\">\n",
      "     http://urn.nb.no/URN:NBN:no-nb_digibok_2011070620014\n",
      "    </subfield>\n",
      "    <subfield code=\"3\">\n",
      "     electronic resource\n",
      "    </subfield>\n",
      "   </datafield>\n",
      "   <datafield ind1=\" \" ind2=\" \" tag=\"852\">\n",
      "    <subfield code=\"a\">\n",
      "     NO-0183300\n",
      "    </subfield>\n",
      "   </datafield>\n",
      "   <datafield ind1=\" \" ind2=\" \" tag=\"852\">\n",
      "    <subfield code=\"a\">\n",
      "     NO-0030100\n",
      "    </subfield>\n",
      "   </datafield>\n",
      "   <datafield ind1=\" \" ind2=\" \" tag=\"852\">\n",
      "    <subfield code=\"a\">\n",
      "     NO-0183300\n",
      "    </subfield>\n",
      "   </datafield>\n",
      "   <datafield ind1=\" \" ind2=\" \" tag=\"852\">\n",
      "    <subfield code=\"a\">\n",
      "     NO-0030100\n",
      "    </subfield>\n",
      "   </datafield>\n",
      "   <datafield ind1=\" \" ind2=\" \" tag=\"852\">\n",
      "    <subfield code=\"a\">\n",
      "     NO-0030100\n",
      "    </subfield>\n",
      "   </datafield>\n",
      "   <datafield ind1=\"0\" ind2=\" \" tag=\"773\">\n",
      "    <subfield code=\"g\">\n",
      "     17\n",
      "    </subfield>\n",
      "    <subfield code=\"t\">\n",
      "     Norges nasjonallitteratur\n",
      "    </subfield>\n",
      "    <subfield code=\"i\">\n",
      "     Inkludert i\n",
      "    </subfield>\n",
      "    <subfield code=\"w\">\n",
      "     997511476304702201\n",
      "    </subfield>\n",
      "   </datafield>\n",
      "   <datafield ind1=\" \" ind2=\" \" tag=\"856\">\n",
      "    <subfield code=\"u\">\n",
      "     http://urn.nb.no/URN:NBN:no-nb_digibok_2007051401028\n",
      "    </subfield>\n",
      "   </datafield>\n",
      "   <datafield ind1=\" \" ind2=\" \" tag=\"856\">\n",
      "    <subfield code=\"u\">\n",
      "     http://urn.nb.no/URN:NBN:no-nb_digibok_2011070620014\n",
      "    </subfield>\n",
      "   </datafield>\n",
      "   <datafield ind1=\"0\" ind2=\" \" tag=\"773\">\n",
      "    <subfield code=\"t\">\n",
      "     Norbok\n",
      "    </subfield>\n",
      "    <subfield code=\"i\">\n",
      "     Del av Bibliografien\n",
      "    </subfield>\n",
      "   </datafield>\n",
      "   <datafield ind1=\"0\" ind2=\" \" tag=\"773\">\n",
      "    <subfield code=\"t\">\n",
      "     Ibsensamlingen\n",
      "    </subfield>\n",
      "    <subfield code=\"i\">\n",
      "     Del av Bibliografien\n",
      "    </subfield>\n",
      "   </datafield>\n",
      "  </record>\n",
      " </body>\n",
      "</html>\n"
     ]
    }
   ],
   "source": [
    "nb.xmlpretty(nb.metadata_xml(2007051401028))"
   ]
  },
  {
   "cell_type": "markdown",
   "metadata": {},
   "source": [
    "### Informasjon om Dewey-systemet\n",
    "\n",
    "Her er lenke til [Webdewey](http://deweysearchno.pansoft.de/webdeweysearch/index.html), ellers er det litt informasjon for programmet."
   ]
  },
  {
   "cell_type": "code",
   "execution_count": 2,
   "metadata": {},
   "outputs": [
    {
     "data": {
      "text/plain": [
       "{'1': ['7', 'Kunst og fritid'],\n",
       " '2': ['73', 'Skulptur; keramisk kunst og metallkunst'],\n",
       " '3': ['739', 'Metallkunst']}"
      ]
     },
     "execution_count": 2,
     "metadata": {},
     "output_type": "execute_result"
    }
   ],
   "source": [
    "nb.dewey(739)"
   ]
  },
  {
   "cell_type": "code",
   "execution_count": null,
   "metadata": {},
   "outputs": [],
   "source": []
  }
 ],
 "metadata": {
  "kernelspec": {
   "display_name": "Python 3",
   "language": "python",
   "name": "python3"
  },
  "language_info": {
   "codemirror_mode": {
    "name": "ipython",
    "version": 3
   },
   "file_extension": ".py",
   "mimetype": "text/x-python",
   "name": "python",
   "nbconvert_exporter": "python",
   "pygments_lexer": "ipython3",
   "version": "3.6.5"
  }
 },
 "nbformat": 4,
 "nbformat_minor": 2
}
