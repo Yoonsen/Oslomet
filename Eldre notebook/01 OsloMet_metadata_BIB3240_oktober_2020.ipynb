{
 "cells": [
  {
   "cell_type": "markdown",
   "metadata": {},
   "source": [
    "# OsloMet - Metadata og Innhold\n",
    "\n",
    "* Lars G. Johnsen\n",
    "* lars.johnsen@nb.no\n",
    "* Nasjonalbiblioteket\n"
   ]
  },
  {
   "cell_type": "markdown",
   "metadata": {},
   "source": [
    "Importer ressurser"
   ]
  },
  {
   "cell_type": "code",
   "execution_count": 1,
   "metadata": {},
   "outputs": [],
   "source": [
    "import dhlab.module_update as mu\n",
    "import dhlab.nbtext as nb\n",
    "import dhlab.nbpictures as pc"
   ]
  },
  {
   "cell_type": "code",
   "execution_count": 2,
   "metadata": {},
   "outputs": [
    {
     "data": {
      "text/html": [
       "<style>@import url(\n",
       "http://fonts.googleapis.com/css?family=Lato|Philosopher|Montserrat|Source+Code+Pro|Istok+Web|Philosopher|Assistant:200,400,700);\n",
       "\n",
       "/*\n",
       "#notebook-container {\n",
       "\t-webkit-box-shadow: none;\n",
       "\tbox-shadow: none;\n",
       "}\n",
       "*/\n",
       "\n",
       "h1, h2, h3, h4, h5, h6 {\n",
       "\tfont-family: 'Montserrat', sans-serif;\n",
       "\tline-height: 2em;\n",
       "    color: #004f99;\n",
       "    font-weight: 600;\n",
       "}\n",
       "\n",
       "h1 { font-size: 4.5em; }\n",
       "h2 { font-size: 4em; }\n",
       "h3 { font-size: 3.5em; }\n",
       "h4 { font-size: 3em; }\n",
       "h5 { font-size: 2.5em; color:DarkSlateGray; }\n",
       "h6 { font-size: 2em; }\n",
       "\n",
       "p {\n",
       "\tfont-family: 'Assistant', sans-serif; \n",
       "\tfont-size: 1.2em;\n",
       "\tline-height: 1.4em;\n",
       "\tcolor: black;\n",
       "}\n",
       "p code {\n",
       "\tfont-size:0.9em;\n",
       "}\n",
       "div.input_area {\n",
       "\tborder:none !important;\n",
       "\tborder-left:1px solid #ff851b !important\n",
       "}\n",
       "\n",
       "span.cm-keyword {\n",
       "\tcolor:#339966 !important;\n",
       "}\n",
       "span.nn {  /*span.cm-variable, span.cm-property*/\n",
       "\tcolor: #3399ff !important;\n",
       "}\n",
       "div.CodeMirror {\n",
       "\tfont-family: 'Inconsolata', monospace;\n",
       "\tfont-size: 1.1em;\n",
       "\t\n",
       "}\n",
       "</style>"
      ],
      "text/plain": [
       "<IPython.core.display.HTML object>"
      ]
     },
     "execution_count": 2,
     "metadata": {},
     "output_type": "execute_result"
    }
   ],
   "source": [
    "mu.css()"
   ]
  },
  {
   "cell_type": "markdown",
   "metadata": {},
   "source": [
    "# Nasjonalbiblioteket og digitalisering\n",
    "\n",
    "* Digitaliseringsarbeidet startet for alvor i 2006\n",
    "* Metadata for bøker fra Nasjonalbibliografien, og nye metadataformat for nye medier, som film og lyd.\n",
    "* Bokhylla-avtalen fra 2012. Alle bøker publisert før 2000 er tilgjengelig på [nb.no](https://www.nb.no)\n",
    "* Fra 2017 er bøkene også gjort tilgjengelig for forskning gjennom ikke-konsumerbar bruk"
   ]
  },
  {
   "cell_type": "markdown",
   "metadata": {},
   "source": [
    "# Kunnskapsorganisering\n",
    "\n",
    "### Hva er kunnskap?\n",
    "\n",
    "* [Wikipedia](https://en.wikipedia.org/wiki/Knowledge)\n",
    "* [Stanford encyclopedia om epistemologi](https://plato.stanford.edu/entries/epistemology/)\n",
    "* [Stanfor encyclopdia kunnskap](https://plato.stanford.edu/entries/knowledge-analysis/)\n",
    "\n",
    " "
   ]
  },
  {
   "cell_type": "markdown",
   "metadata": {},
   "source": [
    "# Metadata for objekter\n",
    "\n",
    "Metadata er informasjon om objekter, og\n",
    "i seg selv et resultat av resonnementer. \n",
    "\n",
    "Metadata legges inn ved bibliotekene i forskjellige formater, for eksempel Marc21, og kan hentes ut fra digitale lager. For eksempel med [APIer](https://api.nb.no) fra Nasjonalbiblioteket. APIene er adgang til metadata for programmer og algoritmer, og brukes til å bygge brukergrensesnitt, som for eksempel [ORIA](https://oria.no)\n",
    "\n",
    "En viktig del av infrastrukturen for data og metadata er et referansesystem, som et sett persistente identifikatorer. Ved Nasjonalbiblioteket er det URNer (Universal Resource Name).\n",
    "\n",
    "Eksempel: \n",
    "https://urn.nb.no/URN:NBN:no-nb_digibok_2010070608116"
   ]
  },
  {
   "cell_type": "markdown",
   "metadata": {},
   "source": [
    "API\n",
    "\n",
    "HTML (Javascript, CSS)\n",
    "\n",
    "HTTP"
   ]
  },
  {
   "cell_type": "markdown",
   "metadata": {},
   "source": [
    "### DH-labens API mot metadata"
   ]
  },
  {
   "cell_type": "code",
   "execution_count": 3,
   "metadata": {},
   "outputs": [
    {
     "data": {
      "text/html": [
       "<div>\n",
       "<style scoped>\n",
       "    .dataframe tbody tr th:only-of-type {\n",
       "        vertical-align: middle;\n",
       "    }\n",
       "\n",
       "    .dataframe tbody tr th {\n",
       "        vertical-align: top;\n",
       "    }\n",
       "\n",
       "    .dataframe thead th {\n",
       "        text-align: right;\n",
       "    }\n",
       "</style>\n",
       "<table border=\"1\" class=\"dataframe\">\n",
       "  <thead>\n",
       "    <tr style=\"text-align: right;\">\n",
       "      <th></th>\n",
       "      <th>urn</th>\n",
       "      <th>author</th>\n",
       "      <th>title</th>\n",
       "      <th>year</th>\n",
       "    </tr>\n",
       "  </thead>\n",
       "  <tbody>\n",
       "    <tr>\n",
       "      <th>0</th>\n",
       "      <td>2013040824080</td>\n",
       "      <td>Hamsun, Knut</td>\n",
       "      <td>Benoni</td>\n",
       "      <td>1908</td>\n",
       "    </tr>\n",
       "    <tr>\n",
       "      <th>1</th>\n",
       "      <td>2009061013011</td>\n",
       "      <td>Hamsun, Knut</td>\n",
       "      <td>Bjørger</td>\n",
       "      <td>1878</td>\n",
       "    </tr>\n",
       "    <tr>\n",
       "      <th>2</th>\n",
       "      <td>2008123010001</td>\n",
       "      <td>Hamsun, Knut</td>\n",
       "      <td>Livet ivold</td>\n",
       "      <td>1910</td>\n",
       "    </tr>\n",
       "    <tr>\n",
       "      <th>3</th>\n",
       "      <td>2008123010002</td>\n",
       "      <td>Hamsun, Knut</td>\n",
       "      <td>Ny Jord</td>\n",
       "      <td>1893</td>\n",
       "    </tr>\n",
       "    <tr>\n",
       "      <th>4</th>\n",
       "      <td>2015021824001</td>\n",
       "      <td>Hamsun, Knut</td>\n",
       "      <td>Sklaven der Liebe und andere Novellen</td>\n",
       "      <td>1902</td>\n",
       "    </tr>\n",
       "    <tr>\n",
       "      <th>5</th>\n",
       "      <td>2009050610002</td>\n",
       "      <td>Hamsun, Knut</td>\n",
       "      <td>Victoria</td>\n",
       "      <td>1898</td>\n",
       "    </tr>\n",
       "    <tr>\n",
       "      <th>6</th>\n",
       "      <td>2008112113001</td>\n",
       "      <td>Hamsun, Knut</td>\n",
       "      <td>Gaadefulde</td>\n",
       "      <td>1877</td>\n",
       "    </tr>\n",
       "    <tr>\n",
       "      <th>7</th>\n",
       "      <td>2008082710002</td>\n",
       "      <td>Hamsun, Knut</td>\n",
       "      <td>Pan</td>\n",
       "      <td>1894</td>\n",
       "    </tr>\n",
       "    <tr>\n",
       "      <th>8</th>\n",
       "      <td>2008123010003</td>\n",
       "      <td>Hamsun, Knut</td>\n",
       "      <td>Ved Rigets Port</td>\n",
       "      <td>1895</td>\n",
       "    </tr>\n",
       "    <tr>\n",
       "      <th>9</th>\n",
       "      <td>2007060512003</td>\n",
       "      <td>Hamsun, Knut</td>\n",
       "      <td>Aftenrøde</td>\n",
       "      <td>1898</td>\n",
       "    </tr>\n",
       "    <tr>\n",
       "      <th>10</th>\n",
       "      <td>2014120208258</td>\n",
       "      <td>Hamsun, Knut</td>\n",
       "      <td>Sult</td>\n",
       "      <td>1899</td>\n",
       "    </tr>\n",
       "    <tr>\n",
       "      <th>11</th>\n",
       "      <td>2009050810001</td>\n",
       "      <td>Hamsun, Knut</td>\n",
       "      <td>Sværmere</td>\n",
       "      <td>1904</td>\n",
       "    </tr>\n",
       "    <tr>\n",
       "      <th>12</th>\n",
       "      <td>2015051929001</td>\n",
       "      <td>Hamsun, Knut</td>\n",
       "      <td>Sult</td>\n",
       "      <td>1890</td>\n",
       "    </tr>\n",
       "    <tr>\n",
       "      <th>13</th>\n",
       "      <td>2009010210001</td>\n",
       "      <td>Hamsun, Knut</td>\n",
       "      <td>Livets Spil</td>\n",
       "      <td>1896</td>\n",
       "    </tr>\n",
       "    <tr>\n",
       "      <th>14</th>\n",
       "      <td>2008122910003</td>\n",
       "      <td>Hamsun, Knut</td>\n",
       "      <td>Under Høststjærnen</td>\n",
       "      <td>1906</td>\n",
       "    </tr>\n",
       "    <tr>\n",
       "      <th>15</th>\n",
       "      <td>2008122912001</td>\n",
       "      <td>Hamsun, Knut</td>\n",
       "      <td>I Æventyrland</td>\n",
       "      <td>1903</td>\n",
       "    </tr>\n",
       "    <tr>\n",
       "      <th>16</th>\n",
       "      <td>2008123012003</td>\n",
       "      <td>Hamsun, Knut</td>\n",
       "      <td>Redaktør Lynge</td>\n",
       "      <td>1893</td>\n",
       "    </tr>\n",
       "    <tr>\n",
       "      <th>17</th>\n",
       "      <td>2016011129002</td>\n",
       "      <td>Hamsun, Knut</td>\n",
       "      <td>Dronning Tamara</td>\n",
       "      <td>1903</td>\n",
       "    </tr>\n",
       "    <tr>\n",
       "      <th>18</th>\n",
       "      <td>2009051513003</td>\n",
       "      <td>Hamsun, Knut</td>\n",
       "      <td>Siesta</td>\n",
       "      <td>1897</td>\n",
       "    </tr>\n",
       "    <tr>\n",
       "      <th>19</th>\n",
       "      <td>2009051813001</td>\n",
       "      <td>Hamsun, Knut</td>\n",
       "      <td>Det vilde Kor</td>\n",
       "      <td>1904</td>\n",
       "    </tr>\n",
       "    <tr>\n",
       "      <th>20</th>\n",
       "      <td>2008090113002</td>\n",
       "      <td>Hamsun, Knut</td>\n",
       "      <td>Livets Under</td>\n",
       "      <td>1910</td>\n",
       "    </tr>\n",
       "    <tr>\n",
       "      <th>21</th>\n",
       "      <td>2009061903032</td>\n",
       "      <td>Hamsun, Knut</td>\n",
       "      <td>Vandrer spiller med Sordin</td>\n",
       "      <td>1909</td>\n",
       "    </tr>\n",
       "    <tr>\n",
       "      <th>22</th>\n",
       "      <td>2008122912002</td>\n",
       "      <td>Hamsun, Knut</td>\n",
       "      <td>Munken Vendt</td>\n",
       "      <td>1902</td>\n",
       "    </tr>\n",
       "    <tr>\n",
       "      <th>23</th>\n",
       "      <td>2009060913006</td>\n",
       "      <td>Hamsun, Knut</td>\n",
       "      <td>Rosa</td>\n",
       "      <td>1908</td>\n",
       "    </tr>\n",
       "    <tr>\n",
       "      <th>24</th>\n",
       "      <td>2009061013012</td>\n",
       "      <td>Hamsun, Knut</td>\n",
       "      <td>gjensyn</td>\n",
       "      <td>1878</td>\n",
       "    </tr>\n",
       "    <tr>\n",
       "      <th>25</th>\n",
       "      <td>2009042313001</td>\n",
       "      <td>Hamsun, Knut</td>\n",
       "      <td>Lars Oftedal</td>\n",
       "      <td>1889</td>\n",
       "    </tr>\n",
       "    <tr>\n",
       "      <th>26</th>\n",
       "      <td>2016111748539</td>\n",
       "      <td>Hamsun, Knut</td>\n",
       "      <td>Oplevelser</td>\n",
       "      <td>1897</td>\n",
       "    </tr>\n",
       "    <tr>\n",
       "      <th>27</th>\n",
       "      <td>2008123012002</td>\n",
       "      <td>Hamsun, Knut</td>\n",
       "      <td>Mysterier</td>\n",
       "      <td>1892</td>\n",
       "    </tr>\n",
       "    <tr>\n",
       "      <th>28</th>\n",
       "      <td>2009042803003</td>\n",
       "      <td>Hamsun, Knut</td>\n",
       "      <td>Redaktør Lynge</td>\n",
       "      <td>1893</td>\n",
       "    </tr>\n",
       "    <tr>\n",
       "      <th>29</th>\n",
       "      <td>2009051813003</td>\n",
       "      <td>Hamsun, Knut</td>\n",
       "      <td>Stridende Liv</td>\n",
       "      <td>1905</td>\n",
       "    </tr>\n",
       "    <tr>\n",
       "      <th>30</th>\n",
       "      <td>2008122910001</td>\n",
       "      <td>Hamsun, Knut</td>\n",
       "      <td>Kratskog</td>\n",
       "      <td>1903</td>\n",
       "    </tr>\n",
       "    <tr>\n",
       "      <th>31</th>\n",
       "      <td>2009061012004</td>\n",
       "      <td>Hamsun, Knut</td>\n",
       "      <td>Fra det moderne Amerikas Aandsliv</td>\n",
       "      <td>1889</td>\n",
       "    </tr>\n",
       "  </tbody>\n",
       "</table>\n",
       "</div>"
      ],
      "text/plain": [
       "              urn        author                                  title  year\n",
       "0   2013040824080  Hamsun, Knut                                 Benoni  1908\n",
       "1   2009061013011  Hamsun, Knut                                Bjørger  1878\n",
       "2   2008123010001  Hamsun, Knut                            Livet ivold  1910\n",
       "3   2008123010002  Hamsun, Knut                                Ny Jord  1893\n",
       "4   2015021824001  Hamsun, Knut  Sklaven der Liebe und andere Novellen  1902\n",
       "5   2009050610002  Hamsun, Knut                               Victoria  1898\n",
       "6   2008112113001  Hamsun, Knut                             Gaadefulde  1877\n",
       "7   2008082710002  Hamsun, Knut                                    Pan  1894\n",
       "8   2008123010003  Hamsun, Knut                        Ved Rigets Port  1895\n",
       "9   2007060512003  Hamsun, Knut                              Aftenrøde  1898\n",
       "10  2014120208258  Hamsun, Knut                                   Sult  1899\n",
       "11  2009050810001  Hamsun, Knut                               Sværmere  1904\n",
       "12  2015051929001  Hamsun, Knut                                   Sult  1890\n",
       "13  2009010210001  Hamsun, Knut                            Livets Spil  1896\n",
       "14  2008122910003  Hamsun, Knut                     Under Høststjærnen  1906\n",
       "15  2008122912001  Hamsun, Knut                          I Æventyrland  1903\n",
       "16  2008123012003  Hamsun, Knut                         Redaktør Lynge  1893\n",
       "17  2016011129002  Hamsun, Knut                        Dronning Tamara  1903\n",
       "18  2009051513003  Hamsun, Knut                                 Siesta  1897\n",
       "19  2009051813001  Hamsun, Knut                          Det vilde Kor  1904\n",
       "20  2008090113002  Hamsun, Knut                           Livets Under  1910\n",
       "21  2009061903032  Hamsun, Knut             Vandrer spiller med Sordin  1909\n",
       "22  2008122912002  Hamsun, Knut                           Munken Vendt  1902\n",
       "23  2009060913006  Hamsun, Knut                                   Rosa  1908\n",
       "24  2009061013012  Hamsun, Knut                                gjensyn  1878\n",
       "25  2009042313001  Hamsun, Knut                           Lars Oftedal  1889\n",
       "26  2016111748539  Hamsun, Knut                             Oplevelser  1897\n",
       "27  2008123012002  Hamsun, Knut                              Mysterier  1892\n",
       "28  2009042803003  Hamsun, Knut                         Redaktør Lynge  1893\n",
       "29  2009051813003  Hamsun, Knut                          Stridende Liv  1905\n",
       "30  2008122910001  Hamsun, Knut                               Kratskog  1903\n",
       "31  2009061012004  Hamsun, Knut      Fra det moderne Amerikas Aandsliv  1889"
      ]
     },
     "execution_count": 3,
     "metadata": {},
     "output_type": "execute_result"
    }
   ],
   "source": [
    "nb.book_corpus(author = \"hamsun%knut%\", period=(1870, 1910), limit=100)"
   ]
  },
  {
   "cell_type": "markdown",
   "metadata": {},
   "source": [
    "### NBs api mot metadata som marc-xml"
   ]
  },
  {
   "cell_type": "code",
   "execution_count": 22,
   "metadata": {},
   "outputs": [
    {
     "name": "stdout",
     "output_type": "stream",
     "text": [
      "<?xml version=\"1.0\" encoding=\"UTF-8\" standalone=\"yes\"?>\n",
      "<html>\n",
      " <body>\n",
      "  <record xmlns=\"http://www.loc.gov/MARC21/slim\">\n",
      "   <leader>\n",
      "    nam  22     uu 4500\n",
      "   </leader>\n",
      "   <controlfield tag=\"001\">\n",
      "    999706098254702202\n",
      "   </controlfield>\n",
      "   <controlfield tag=\"003\">\n",
      "    nb.bibsys.no\n",
      "   </controlfield>\n",
      "   <controlfield tag=\"005\">\n",
      "    20160622164325.0\n",
      "   </controlfield>\n",
      "   <controlfield tag=\"008\">\n",
      "    100121|1997    no#||||j |||||||||||nob||\n",
      "   </controlfield>\n",
      "   <datafield ind1=\" \" ind2=\" \" tag=\"040\">\n",
      "    <subfield code=\"a\">\n",
      "     NO-OsNB\n",
      "    </subfield>\n",
      "   </datafield>\n",
      "   <datafield ind1=\"1\" ind2=\"0\" tag=\"245\">\n",
      "    <subfield code=\"a\">\n",
      "     Barbie pÃ¥ safari\n",
      "    </subfield>\n",
      "    <subfield code=\"c\">\n",
      "     oversatt av Nina Svendsrud\n",
      "    </subfield>\n",
      "   </datafield>\n",
      "   <datafield ind1=\"3\" ind2=\" \" tag=\"246\">\n",
      "    <subfield code=\"a\">\n",
      "     Barbie on safari\n",
      "    </subfield>\n",
      "   </datafield>\n",
      "   <datafield ind1=\" \" ind2=\" \" tag=\"720\">\n",
      "    <subfield code=\"a\">\n",
      "     Svendsrud, Nina\n",
      "    </subfield>\n",
      "   </datafield>\n",
      "   <datafield ind1=\" \" ind2=\"7\" tag=\"655\">\n",
      "    <subfield code=\"a\">\n",
      "     fiction\n",
      "    </subfield>\n",
      "   </datafield>\n",
      "   <datafield ind1=\" \" ind2=\"7\" tag=\"655\">\n",
      "    <subfield code=\"a\">\n",
      "     fiction\n",
      "    </subfield>\n",
      "    <subfield code=\"2\">\n",
      "     marcgt\n",
      "    </subfield>\n",
      "   </datafield>\n",
      "   <datafield ind1=\" \" ind2=\" \" tag=\"044\">\n",
      "    <subfield code=\"c\">\n",
      "     no\n",
      "    </subfield>\n",
      "   </datafield>\n",
      "   <datafield ind1=\" \" ind2=\" \" tag=\"260\">\n",
      "    <subfield code=\"a\">\n",
      "     Oslo\n",
      "    </subfield>\n",
      "    <subfield code=\"b\">\n",
      "     Egmont Hjemmets bokforl.\n",
      "    </subfield>\n",
      "    <subfield code=\"c\">\n",
      "     cop. 1997\n",
      "    </subfield>\n",
      "    <subfield code=\"c\">\n",
      "     1997\n",
      "    </subfield>\n",
      "   </datafield>\n",
      "   <datafield ind1=\" \" ind2=\" \" tag=\"300\">\n",
      "    <subfield code=\"a\">\n",
      "     [42] s. ill.\n",
      "    </subfield>\n",
      "   </datafield>\n",
      "   <datafield ind1=\" \" ind2=\" \" tag=\"\">\n",
      "    <subfield code=\"a\">\n",
      "    </subfield>\n",
      "   </datafield>\n",
      "   <datafield ind1=\" \" ind2=\" \" tag=\"500\">\n",
      "    <subfield code=\"a\">\n",
      "     Elektronisk reproduksjon [Norge] Nasjonalbiblioteket Digital 2009-04-19\n",
      "    </subfield>\n",
      "   </datafield>\n",
      "   <datafield ind1=\"0\" ind2=\" \" tag=\"082\">\n",
      "    <subfield code=\"a\">\n",
      "     813\n",
      "    </subfield>\n",
      "    <subfield code=\"2\">\n",
      "     4/nor\n",
      "    </subfield>\n",
      "   </datafield>\n",
      "   <datafield ind1=\" \" ind2=\" \" tag=\"856\">\n",
      "    <subfield code=\"u\">\n",
      "     http://urn.nb.no/URN:NBN:no-nb_digibok_2009021604089\n",
      "    </subfield>\n",
      "    <subfield code=\"3\">\n",
      "     Fulltekst NB digitalisert\n",
      "    </subfield>\n",
      "   </datafield>\n",
      "   <datafield ind1=\" \" ind2=\" \" tag=\"856\">\n",
      "    <subfield code=\"u\">\n",
      "     http://urn.nb.no/URN:NBN:no-nb_digibok_2009021604089\n",
      "    </subfield>\n",
      "    <subfield code=\"3\">\n",
      "     electronic resource\n",
      "    </subfield>\n",
      "   </datafield>\n",
      "   <datafield ind1=\" \" ind2=\" \" tag=\"852\">\n",
      "    <subfield code=\"a\">\n",
      "     NO-0183334\n",
      "    </subfield>\n",
      "   </datafield>\n",
      "   <datafield ind1=\" \" ind2=\" \" tag=\"852\">\n",
      "    <subfield code=\"a\">\n",
      "     NO-0030100\n",
      "    </subfield>\n",
      "   </datafield>\n",
      "   <datafield ind1=\" \" ind2=\" \" tag=\"852\">\n",
      "    <subfield code=\"a\">\n",
      "     NO-0030100\n",
      "    </subfield>\n",
      "   </datafield>\n",
      "   <datafield ind1=\" \" ind2=\" \" tag=\"852\">\n",
      "    <subfield code=\"a\">\n",
      "     NO-0030100\n",
      "    </subfield>\n",
      "   </datafield>\n",
      "   <datafield ind1=\" \" ind2=\" \" tag=\"852\">\n",
      "    <subfield code=\"a\">\n",
      "     NO-0183300\n",
      "    </subfield>\n",
      "   </datafield>\n",
      "   <datafield ind1=\" \" ind2=\" \" tag=\"440\">\n",
      "    <subfield code=\"a\">\n",
      "     Barbie bokklubben\n",
      "    </subfield>\n",
      "   </datafield>\n",
      "   <datafield ind1=\" \" ind2=\" \" tag=\"020\">\n",
      "    <subfield code=\"a\">\n",
      "     8259017814\n",
      "    </subfield>\n",
      "   </datafield>\n",
      "   <datafield ind1=\" \" ind2=\" \" tag=\"856\">\n",
      "    <subfield code=\"u\">\n",
      "     http://urn.nb.no/URN:NBN:no-nb_digibok_2009021604089\n",
      "    </subfield>\n",
      "   </datafield>\n",
      "   <datafield ind1=\"0\" ind2=\" \" tag=\"773\">\n",
      "    <subfield code=\"t\">\n",
      "     Norbok\n",
      "    </subfield>\n",
      "    <subfield code=\"i\">\n",
      "     Del av Bibliografien\n",
      "    </subfield>\n",
      "   </datafield>\n",
      "  </record>\n",
      " </body>\n",
      "</html>\n"
     ]
    }
   ],
   "source": [
    "nb.xmlpretty(nb.metadata_xml(2009021604089))"
   ]
  },
  {
   "cell_type": "markdown",
   "metadata": {},
   "source": [
    "### Informasjon om Dewey-systemet\n",
    "\n",
    "Her er lenke til [Webdewey](http://deweysearchno.pansoft.de/webdeweysearch/index.html), ellers er det litt informasjon for programmet."
   ]
  },
  {
   "cell_type": "code",
   "execution_count": 5,
   "metadata": {},
   "outputs": [
    {
     "data": {
      "text/plain": [
       "{'1': ['7', 'Kunst og fritid'],\n",
       " '2': ['73', 'Skulptur; keramisk kunst og metallkunst'],\n",
       " '3': ['739', 'Metallkunst']}"
      ]
     },
     "execution_count": 5,
     "metadata": {},
     "output_type": "execute_result"
    }
   ],
   "source": [
    "nb.dewey(739)"
   ]
  },
  {
   "cell_type": "code",
   "execution_count": 6,
   "metadata": {},
   "outputs": [
    {
     "data": {
      "text/html": [
       "<div>\n",
       "<style scoped>\n",
       "    .dataframe tbody tr th:only-of-type {\n",
       "        vertical-align: middle;\n",
       "    }\n",
       "\n",
       "    .dataframe tbody tr th {\n",
       "        vertical-align: top;\n",
       "    }\n",
       "\n",
       "    .dataframe thead th {\n",
       "        text-align: right;\n",
       "    }\n",
       "</style>\n",
       "<table border=\"1\" class=\"dataframe\">\n",
       "  <thead>\n",
       "    <tr style=\"text-align: right;\">\n",
       "      <th></th>\n",
       "      <th>urn</th>\n",
       "      <th>author</th>\n",
       "      <th>title</th>\n",
       "      <th>year</th>\n",
       "    </tr>\n",
       "  </thead>\n",
       "  <tbody>\n",
       "    <tr>\n",
       "      <th>0</th>\n",
       "      <td>2007091001039</td>\n",
       "      <td>Irving, John</td>\n",
       "      <td>Siderhusreglene</td>\n",
       "      <td>1990</td>\n",
       "    </tr>\n",
       "    <tr>\n",
       "      <th>1</th>\n",
       "      <td>2009041600031</td>\n",
       "      <td>Øgrim, Tron</td>\n",
       "      <td>Hilsen til en generasjon av kvikksølv!</td>\n",
       "      <td>1997</td>\n",
       "    </tr>\n",
       "    <tr>\n",
       "      <th>2</th>\n",
       "      <td>2010041303043</td>\n",
       "      <td>Johansen, Jahn Otto</td>\n",
       "      <td>Lutefisk</td>\n",
       "      <td>1997</td>\n",
       "    </tr>\n",
       "    <tr>\n",
       "      <th>3</th>\n",
       "      <td>2007112701005</td>\n",
       "      <td>Tetzchner, Stephen von</td>\n",
       "      <td>Habilitering</td>\n",
       "      <td>1992</td>\n",
       "    </tr>\n",
       "    <tr>\n",
       "      <th>4</th>\n",
       "      <td>2007092000074</td>\n",
       "      <td>Selmer-Olsen, Ivar</td>\n",
       "      <td>Barn imellom - og de voksne</td>\n",
       "      <td>1990</td>\n",
       "    </tr>\n",
       "    <tr>\n",
       "      <th>...</th>\n",
       "      <td>...</td>\n",
       "      <td>...</td>\n",
       "      <td>...</td>\n",
       "      <td>...</td>\n",
       "    </tr>\n",
       "    <tr>\n",
       "      <th>95</th>\n",
       "      <td>2010071303036</td>\n",
       "      <td>Rygh, O.</td>\n",
       "      <td>Norske oldsager</td>\n",
       "      <td>1999</td>\n",
       "    </tr>\n",
       "    <tr>\n",
       "      <th>96</th>\n",
       "      <td>2010102108025</td>\n",
       "      <td>Pettersen, Egil</td>\n",
       "      <td>Bergensordboken</td>\n",
       "      <td>1991</td>\n",
       "    </tr>\n",
       "    <tr>\n",
       "      <th>97</th>\n",
       "      <td>2010091508108</td>\n",
       "      <td>Bjørneboe, Jens</td>\n",
       "      <td>Før hanen galer</td>\n",
       "      <td>1990</td>\n",
       "    </tr>\n",
       "    <tr>\n",
       "      <th>98</th>\n",
       "      <td>2008082600002</td>\n",
       "      <td>Klippenvåg, Odd</td>\n",
       "      <td>Body &amp;amp; soul</td>\n",
       "      <td>1998</td>\n",
       "    </tr>\n",
       "    <tr>\n",
       "      <th>99</th>\n",
       "      <td>2007081301042</td>\n",
       "      <td>Stene, Karstein</td>\n",
       "      <td>nye vitseboka</td>\n",
       "      <td>1991</td>\n",
       "    </tr>\n",
       "  </tbody>\n",
       "</table>\n",
       "<p>100 rows × 4 columns</p>\n",
       "</div>"
      ],
      "text/plain": [
       "              urn                  author  \\\n",
       "0   2007091001039            Irving, John   \n",
       "1   2009041600031             Øgrim, Tron   \n",
       "2   2010041303043     Johansen, Jahn Otto   \n",
       "3   2007112701005  Tetzchner, Stephen von   \n",
       "4   2007092000074      Selmer-Olsen, Ivar   \n",
       "..            ...                     ...   \n",
       "95  2010071303036                Rygh, O.   \n",
       "96  2010102108025         Pettersen, Egil   \n",
       "97  2010091508108         Bjørneboe, Jens   \n",
       "98  2008082600002         Klippenvåg, Odd   \n",
       "99  2007081301042         Stene, Karstein   \n",
       "\n",
       "                                     title  year  \n",
       "0                          Siderhusreglene  1990  \n",
       "1   Hilsen til en generasjon av kvikksølv!  1997  \n",
       "2                                 Lutefisk  1997  \n",
       "3                             Habilitering  1992  \n",
       "4              Barn imellom - og de voksne  1990  \n",
       "..                                     ...   ...  \n",
       "95                         Norske oldsager  1999  \n",
       "96                         Bergensordboken  1991  \n",
       "97                         Før hanen galer  1990  \n",
       "98                         Body &amp; soul  1998  \n",
       "99                           nye vitseboka  1991  \n",
       "\n",
       "[100 rows x 4 columns]"
      ]
     },
     "execution_count": 6,
     "metadata": {},
     "output_type": "execute_result"
    }
   ],
   "source": [
    "mann = nb.book_corpus(words = ['tisser', 'pisser'], gender = 'm', period = (1990, 2000), limit = 100 )\n",
    "mann"
   ]
  },
  {
   "cell_type": "code",
   "execution_count": 7,
   "metadata": {},
   "outputs": [
    {
     "data": {
      "text/html": [
       "<div>\n",
       "<style scoped>\n",
       "    .dataframe tbody tr th:only-of-type {\n",
       "        vertical-align: middle;\n",
       "    }\n",
       "\n",
       "    .dataframe tbody tr th {\n",
       "        vertical-align: top;\n",
       "    }\n",
       "\n",
       "    .dataframe thead th {\n",
       "        text-align: right;\n",
       "    }\n",
       "</style>\n",
       "<table border=\"1\" class=\"dataframe\">\n",
       "  <thead>\n",
       "    <tr style=\"text-align: right;\">\n",
       "      <th></th>\n",
       "      <th>urn</th>\n",
       "      <th>author</th>\n",
       "      <th>title</th>\n",
       "      <th>year</th>\n",
       "    </tr>\n",
       "  </thead>\n",
       "  <tbody>\n",
       "    <tr>\n",
       "      <th>0</th>\n",
       "      <td>2008082001015</td>\n",
       "      <td>Røsth, Gro</td>\n",
       "      <td>Jørgen og Johanne for full musikk</td>\n",
       "      <td>1998</td>\n",
       "    </tr>\n",
       "    <tr>\n",
       "      <th>1</th>\n",
       "      <td>2011022306244</td>\n",
       "      <td>Ragde, Anne B.</td>\n",
       "      <td>Voff !</td>\n",
       "      <td>2000</td>\n",
       "    </tr>\n",
       "    <tr>\n",
       "      <th>2</th>\n",
       "      <td>2010100603034</td>\n",
       "      <td>Wassmo, Herbjørg</td>\n",
       "      <td>Ciel cruel</td>\n",
       "      <td>1998</td>\n",
       "    </tr>\n",
       "    <tr>\n",
       "      <th>3</th>\n",
       "      <td>2007111901007</td>\n",
       "      <td>Riis, Annie</td>\n",
       "      <td>Fridafrank</td>\n",
       "      <td>1991</td>\n",
       "    </tr>\n",
       "    <tr>\n",
       "      <th>4</th>\n",
       "      <td>2008061904074</td>\n",
       "      <td>Allende, Isabel</td>\n",
       "      <td>Paula</td>\n",
       "      <td>1996</td>\n",
       "    </tr>\n",
       "    <tr>\n",
       "      <th>...</th>\n",
       "      <td>...</td>\n",
       "      <td>...</td>\n",
       "      <td>...</td>\n",
       "      <td>...</td>\n",
       "    </tr>\n",
       "    <tr>\n",
       "      <th>95</th>\n",
       "      <td>2010030903041</td>\n",
       "      <td>Gullestad, Marianne</td>\n",
       "      <td>Hverdagsfilosofer</td>\n",
       "      <td>1996</td>\n",
       "    </tr>\n",
       "    <tr>\n",
       "      <th>96</th>\n",
       "      <td>2012071338025</td>\n",
       "      <td>Birkeland, Tone</td>\n",
       "      <td>Ikke noe snikksnakk</td>\n",
       "      <td>1999</td>\n",
       "    </tr>\n",
       "    <tr>\n",
       "      <th>97</th>\n",
       "      <td>2008072900030</td>\n",
       "      <td>Fjell, Tove Ingebjørg</td>\n",
       "      <td>Blikket vendes</td>\n",
       "      <td>1996</td>\n",
       "    </tr>\n",
       "    <tr>\n",
       "      <th>98</th>\n",
       "      <td>2013040305027</td>\n",
       "      <td>Lindell, Unni</td>\n",
       "      <td>Skjelettet er et stativ som man kan henge fra ...</td>\n",
       "      <td>1992</td>\n",
       "    </tr>\n",
       "    <tr>\n",
       "      <th>99</th>\n",
       "      <td>2010062303026</td>\n",
       "      <td>Høines, Marit Johnsen-</td>\n",
       "      <td>Begynneropplæringen</td>\n",
       "      <td>1998</td>\n",
       "    </tr>\n",
       "  </tbody>\n",
       "</table>\n",
       "<p>100 rows × 4 columns</p>\n",
       "</div>"
      ],
      "text/plain": [
       "              urn                  author  \\\n",
       "0   2008082001015              Røsth, Gro   \n",
       "1   2011022306244          Ragde, Anne B.   \n",
       "2   2010100603034        Wassmo, Herbjørg   \n",
       "3   2007111901007             Riis, Annie   \n",
       "4   2008061904074         Allende, Isabel   \n",
       "..            ...                     ...   \n",
       "95  2010030903041     Gullestad, Marianne   \n",
       "96  2012071338025         Birkeland, Tone   \n",
       "97  2008072900030   Fjell, Tove Ingebjørg   \n",
       "98  2013040305027           Lindell, Unni   \n",
       "99  2010062303026  Høines, Marit Johnsen-   \n",
       "\n",
       "                                                title  year  \n",
       "0                   Jørgen og Johanne for full musikk  1998  \n",
       "1                                              Voff !  2000  \n",
       "2                                          Ciel cruel  1998  \n",
       "3                                          Fridafrank  1991  \n",
       "4                                               Paula  1996  \n",
       "..                                                ...   ...  \n",
       "95                                  Hverdagsfilosofer  1996  \n",
       "96                                Ikke noe snikksnakk  1999  \n",
       "97                                     Blikket vendes  1996  \n",
       "98  Skjelettet er et stativ som man kan henge fra ...  1992  \n",
       "99                                Begynneropplæringen  1998  \n",
       "\n",
       "[100 rows x 4 columns]"
      ]
     },
     "execution_count": 7,
     "metadata": {},
     "output_type": "execute_result"
    }
   ],
   "source": [
    "kvinne = nb.book_corpus(words = ['pisser', 'tisser'],gender = 'f', period = (1990, 2000), limit = 100 )\n",
    "kvinne"
   ]
  },
  {
   "cell_type": "code",
   "execution_count": 8,
   "metadata": {},
   "outputs": [
    {
     "data": {
      "text/plain": [
       "{'pisser': 88.0, 'tisser': 70.0}"
      ]
     },
     "execution_count": 8,
     "metadata": {},
     "output_type": "execute_result"
    }
   ],
   "source": [
    "nb.word_freq(list(mann.urn), ['tisser', 'pisser'])"
   ]
  },
  {
   "cell_type": "code",
   "execution_count": 9,
   "metadata": {},
   "outputs": [
    {
     "data": {
      "text/plain": [
       "{'pisser': 37.0, 'tisser': 126.0}"
      ]
     },
     "execution_count": 9,
     "metadata": {},
     "output_type": "execute_result"
    }
   ],
   "source": [
    "nb.word_freq(list(kvinne.urn), ['tisser', 'pisser'])"
   ]
  },
  {
   "cell_type": "code",
   "execution_count": 10,
   "metadata": {},
   "outputs": [
    {
     "data": {
      "text/plain": [
       "31054"
      ]
     },
     "execution_count": 10,
     "metadata": {},
     "output_type": "execute_result"
    }
   ],
   "source": [
    "kvinne_tot = nb.book_corpus(gender = 'f', period = (1990, 2010), limit = 100000 )\n",
    "len(kvinne_tot)"
   ]
  },
  {
   "cell_type": "code",
   "execution_count": 11,
   "metadata": {},
   "outputs": [
    {
     "data": {
      "text/plain": [
       "72424"
      ]
     },
     "execution_count": 11,
     "metadata": {},
     "output_type": "execute_result"
    }
   ],
   "source": [
    "menn_tot = nb.book_corpus(gender = 'm', period = (1990, 2010), limit = 100000 )\n",
    "len(menn_tot)"
   ]
  },
  {
   "cell_type": "code",
   "execution_count": 12,
   "metadata": {},
   "outputs": [
    {
     "data": {
      "text/plain": [
       "877"
      ]
     },
     "execution_count": 12,
     "metadata": {},
     "output_type": "execute_result"
    }
   ],
   "source": [
    "kvinne = nb.book_corpus(words = ['tisser'],gender = 'f', period = (1990, 2010), limit = 100000 )\n",
    "len(kvinne)"
   ]
  },
  {
   "cell_type": "markdown",
   "metadata": {},
   "source": [
    "### Kjønning\n",
    "\n",
    "Kjønning er knyttet til forholdstallet mellom sannsynligheten og totalen."
   ]
  },
  {
   "cell_type": "code",
   "execution_count": 19,
   "metadata": {},
   "outputs": [
    {
     "data": {
      "text/plain": [
       "0.03"
      ]
     },
     "execution_count": 19,
     "metadata": {},
     "output_type": "execute_result"
    }
   ],
   "source": [
    "kvinne = nb.book_corpus(words = ['tisser'],gender = 'f', period = (1990, 2010), limit = 100000 )\n",
    "round(len(kvinne)/len(kvinne_tot),2)"
   ]
  },
  {
   "cell_type": "code",
   "execution_count": 21,
   "metadata": {},
   "outputs": [
    {
     "data": {
      "text/plain": [
       "0.01"
      ]
     },
     "execution_count": 21,
     "metadata": {},
     "output_type": "execute_result"
    }
   ],
   "source": [
    "mann = nb.book_corpus(words = ['tisser'],gender = 'm', period = (1990, 2010), limit = 100000 )\n",
    "round(len(mann)/len(menn_tot),2)"
   ]
  },
  {
   "cell_type": "code",
   "execution_count": 17,
   "metadata": {},
   "outputs": [
    {
     "data": {
      "text/plain": [
       "0.010756102949298576"
      ]
     },
     "execution_count": 17,
     "metadata": {},
     "output_type": "execute_result"
    }
   ],
   "source": [
    "mann = nb.book_corpus(words = ['tisser'],gender = 'm', period = (1990, 2010), limit = 100000 )\n",
    "len(mann)/len(menn_tot)"
   ]
  },
  {
   "cell_type": "code",
   "execution_count": 14,
   "metadata": {},
   "outputs": [
    {
     "data": {
      "text/plain": [
       "263"
      ]
     },
     "execution_count": 14,
     "metadata": {},
     "output_type": "execute_result"
    }
   ],
   "source": [
    "kvinne = nb.book_corpus(words = ['pisser'],gender = 'f', period = (1990, 2010), limit = 100000 )\n",
    "len(kvinne)"
   ]
  },
  {
   "cell_type": "code",
   "execution_count": 15,
   "metadata": {},
   "outputs": [
    {
     "data": {
      "text/plain": [
       "1053"
      ]
     },
     "execution_count": 15,
     "metadata": {},
     "output_type": "execute_result"
    }
   ],
   "source": [
    "mann = nb.book_corpus(words = ['pisser'],gender = 'm', period = (1990, 2010), limit = 100000 )\n",
    "len(mann)"
   ]
  },
  {
   "cell_type": "code",
   "execution_count": null,
   "metadata": {},
   "outputs": [],
   "source": []
  }
 ],
 "metadata": {
  "kernelspec": {
   "display_name": "Python 3",
   "language": "python",
   "name": "python3"
  },
  "language_info": {
   "codemirror_mode": {
    "name": "ipython",
    "version": 3
   },
   "file_extension": ".py",
   "mimetype": "text/x-python",
   "name": "python",
   "nbconvert_exporter": "python",
   "pygments_lexer": "ipython3",
   "version": "3.7.3"
  }
 },
 "nbformat": 4,
 "nbformat_minor": 4
}
