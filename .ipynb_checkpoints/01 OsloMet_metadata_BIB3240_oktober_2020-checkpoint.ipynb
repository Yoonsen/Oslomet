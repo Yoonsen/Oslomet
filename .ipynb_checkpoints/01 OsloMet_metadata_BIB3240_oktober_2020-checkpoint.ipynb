{
 "cells": [
  {
   "cell_type": "markdown",
   "metadata": {},
   "source": [
    "# OsloMet - Metadata og Innhold\n",
    "\n",
    "* Lars G. Johnsen\n",
    "* lars.johnsen@nb.no\n",
    "* Nasjonalbiblioteket\n"
   ]
  },
  {
   "cell_type": "markdown",
   "metadata": {},
   "source": [
    "Importer ressurser"
   ]
  },
  {
   "cell_type": "code",
   "execution_count": 1,
   "metadata": {},
   "outputs": [],
   "source": [
    "import dhlab.module_update as mu\n",
    "import dhlab.nbtext as nb\n",
    "import dhlab.nbpictures as pc"
   ]
  },
  {
   "cell_type": "code",
   "execution_count": 2,
   "metadata": {},
   "outputs": [
    {
     "data": {
      "text/html": [
       "<style>@import url(\n",
       "http://fonts.googleapis.com/css?family=Lato|Philosopher|Montserrat|Source+Code+Pro|Istok+Web|Philosopher|Assistant:200,400,700);\n",
       "\n",
       "/*\n",
       "#notebook-container {\n",
       "\t-webkit-box-shadow: none;\n",
       "\tbox-shadow: none;\n",
       "}\n",
       "*/\n",
       "\n",
       "h1, h2, h3, h4, h5, h6 {\n",
       "\tfont-family: 'Montserrat', sans-serif;\n",
       "\tline-height: 2em;\n",
       "    color: #004f99;\n",
       "    font-weight: 600;\n",
       "}\n",
       "\n",
       "h1 { font-size: 4.5em; }\n",
       "h2 { font-size: 4em; }\n",
       "h3 { font-size: 3.5em; }\n",
       "h4 { font-size: 3em; }\n",
       "h5 { font-size: 2.5em; color:DarkSlateGray; }\n",
       "h6 { font-size: 2em; }\n",
       "\n",
       "p {\n",
       "\tfont-family: 'Assistant', sans-serif; \n",
       "\tfont-size: 1.2em;\n",
       "\tline-height: 1.4em;\n",
       "\tcolor: black;\n",
       "}\n",
       "p code {\n",
       "\tfont-size:0.9em;\n",
       "}\n",
       "div.input_area {\n",
       "\tborder:none !important;\n",
       "\tborder-left:1px solid #ff851b !important\n",
       "}\n",
       "\n",
       "span.cm-keyword {\n",
       "\tcolor:#339966 !important;\n",
       "}\n",
       "span.nn {  /*span.cm-variable, span.cm-property*/\n",
       "\tcolor: #3399ff !important;\n",
       "}\n",
       "div.CodeMirror {\n",
       "\tfont-family: 'Inconsolata', monospace;\n",
       "\tfont-size: 1.1em;\n",
       "\t\n",
       "}\n",
       "</style>"
      ],
      "text/plain": [
       "<IPython.core.display.HTML object>"
      ]
     },
     "execution_count": 2,
     "metadata": {},
     "output_type": "execute_result"
    }
   ],
   "source": [
    "mu.css()"
   ]
  },
  {
   "cell_type": "markdown",
   "metadata": {},
   "source": [
    "# Nasjonalbiblioteket og digitalisering\n",
    "\n",
    "* Digitaliseringsarbeidet startet for alvor i 2006\n",
    "* Metadata for bøker fra Nasjonalbibliografien, og nye metadataformat for nye medier, som film og lyd.\n",
    "* Bokhylla-avtalen fra 2012. Alle bøker publisert før 2000 er tilgjengelig på [nb.no](https://www.nb.no)\n",
    "* Fra 2017 er bøkene også gjort tilgjengelig for forskning gjennom ikke-konsumerbar bruk"
   ]
  },
  {
   "cell_type": "markdown",
   "metadata": {},
   "source": [
    "# Kunnskapsorganisering\n",
    "\n",
    "### Hva er kunnskap?\n",
    "\n",
    "* [Wikipedia](https://en.wikipedia.org/wiki/Knowledge)\n",
    "* [Stanford encyclopedia om epistemologi](https://plato.stanford.edu/entries/epistemology/)\n",
    "* [Stanfor encyclopdia kunnskap](https://plato.stanford.edu/entries/knowledge-analysis/)\n",
    "\n",
    " "
   ]
  },
  {
   "cell_type": "markdown",
   "metadata": {},
   "source": [
    "# Metadata for objekter\n",
    "\n",
    "Metadata er informasjon om objekter, og\n",
    "i seg selv et resultat av resonnementer. \n",
    "\n",
    "Metadata legges inn ved bibliotekene i forskjellige formater, for eksempel Marc21, og kan hentes ut fra digitale lager. For eksempel med [APIer](https://api.nb.no) fra Nasjonalbiblioteket. APIene er adgang til metadata for programmer og algoritmer, og brukes til å bygge brukergrensesnitt, som for eksempel [ORIA](https://oria.no)\n",
    "\n",
    "En viktig del av infrastrukturen for data og metadata er et referansesystem, som et sett persistente identifikatorer. Ved Nasjonalbiblioteket er det URNer (Univerasal Resource Name)."
   ]
  },
  {
   "cell_type": "markdown",
   "metadata": {},
   "source": [
    "### Språkbankens API mot metadata"
   ]
  },
  {
   "cell_type": "code",
   "execution_count": null,
   "metadata": {},
   "outputs": [],
   "source": [
    "nb.book_corpus(author = \"hamsun%knut%\", period=(1870, 1910), limit=100)"
   ]
  },
  {
   "cell_type": "markdown",
   "metadata": {},
   "source": [
    "### NBs api mot metadata som marc-xml"
   ]
  },
  {
   "cell_type": "code",
   "execution_count": null,
   "metadata": {
    "scrolled": true
   },
   "outputs": [],
   "source": [
    "nb.xmlpretty(nb.metadata_xml(2007051401028))"
   ]
  },
  {
   "cell_type": "markdown",
   "metadata": {},
   "source": [
    "### Informasjon om Dewey-systemet\n",
    "\n",
    "Her er lenke til [Webdewey](http://deweysearchno.pansoft.de/webdeweysearch/index.html), ellers er det litt informasjon for programmet."
   ]
  },
  {
   "cell_type": "code",
   "execution_count": null,
   "metadata": {},
   "outputs": [],
   "source": [
    "nb.dewey(739)"
   ]
  },
  {
   "cell_type": "code",
   "execution_count": null,
   "metadata": {},
   "outputs": [],
   "source": [
    "mann = nb.book_corpus(words = ['tisser', 'pisser'], gender = 'm', period = (1990, 2000), limit = 100 )\n",
    "mann"
   ]
  },
  {
   "cell_type": "code",
   "execution_count": null,
   "metadata": {},
   "outputs": [],
   "source": [
    "kvinne = nb.book_corpus(words = ['pisser', 'tisser'],gender = 'f', period = (1990, 2000), limit = 100 )\n",
    "kvinne"
   ]
  },
  {
   "cell_type": "code",
   "execution_count": null,
   "metadata": {},
   "outputs": [],
   "source": [
    "nb.word_freq(list(mann.urn), ['tisser', 'pisser'])"
   ]
  },
  {
   "cell_type": "code",
   "execution_count": null,
   "metadata": {},
   "outputs": [],
   "source": [
    "nb.word_freq(list(kvinne.urn), ['tisser', 'pisser'])"
   ]
  },
  {
   "cell_type": "code",
   "execution_count": null,
   "metadata": {},
   "outputs": [],
   "source": [
    "kvinne_tot = nb.book_corpus(gender = 'f', period = (1990, 2010), limit = 100000 )\n",
    "len(kvinne_tot)"
   ]
  },
  {
   "cell_type": "code",
   "execution_count": null,
   "metadata": {},
   "outputs": [],
   "source": [
    "menn_tot = nb.book_corpus(gender = 'm', period = (1990, 2010), limit = 100000 )\n",
    "len(menn_tot)"
   ]
  },
  {
   "cell_type": "code",
   "execution_count": null,
   "metadata": {},
   "outputs": [],
   "source": [
    "kvinne = nb.book_corpus(words = ['tisser'],gender = 'f', period = (1990, 2010), limit = 100000 )\n",
    "len(kvinne)/len(kvinne_tot)"
   ]
  },
  {
   "cell_type": "code",
   "execution_count": null,
   "metadata": {},
   "outputs": [],
   "source": [
    "kvinne = nb.book_corpus(words = ['tisser'],gender = 'm', period = (1990, 2010), limit = 100000 )\n",
    "len(kvinne)/len(menn_tot)"
   ]
  },
  {
   "cell_type": "code",
   "execution_count": null,
   "metadata": {},
   "outputs": [],
   "source": [
    "kvinne = nb.book_corpus(words = ['pisser'],gender = 'f', period = (1990, 2010), limit = 100000 )\n",
    "len(kvinne)"
   ]
  },
  {
   "cell_type": "code",
   "execution_count": null,
   "metadata": {},
   "outputs": [],
   "source": [
    "kvinne = nb.book_corpus(words = ['pisser'],gender = 'm', period = (1990, 2010), limit = 100000 )\n",
    "len(kvinne)"
   ]
  },
  {
   "cell_type": "code",
   "execution_count": null,
   "metadata": {},
   "outputs": [],
   "source": [
    "k = nb.book_corpus(words = ['jo'], gender = 'm', period = (1990, 2010), limit = 100000 )\n",
    "len(k)"
   ]
  },
  {
   "cell_type": "code",
   "execution_count": null,
   "metadata": {},
   "outputs": [],
   "source": [
    "kvinne = nb.book_corpus(words = ['jo'],gender = 'f', period = (1990, 2010), limit = 100000 )\n",
    "len(kvinne)"
   ]
  },
  {
   "cell_type": "code",
   "execution_count": null,
   "metadata": {},
   "outputs": [],
   "source": []
  }
 ],
 "metadata": {
  "kernelspec": {
   "display_name": "Python 3",
   "language": "python",
   "name": "python3"
  },
  "language_info": {
   "codemirror_mode": {
    "name": "ipython",
    "version": 3
   },
   "file_extension": ".py",
   "mimetype": "text/x-python",
   "name": "python",
   "nbconvert_exporter": "python",
   "pygments_lexer": "ipython3",
   "version": "3.6.10"
  }
 },
 "nbformat": 4,
 "nbformat_minor": 2
}
